{
 "cells": [
  {
   "cell_type": "markdown",
   "metadata": {},
   "source": [
    "# WeatherPy\n",
    "----\n",
    "\n",
    "#### Note\n",
    "* Instructions have been included for each segment. You do not have to follow them exactly, but they are included to help you think through the steps."
   ]
  },
  {
   "cell_type": "code",
   "execution_count": 74,
   "metadata": {
    "scrolled": true
   },
   "outputs": [],
   "source": [
    "# Dependencies and Setup\n",
    "import matplotlib.pyplot as plt\n",
    "import pandas as pd\n",
    "import numpy as np\n",
    "import requests\n",
    "import time\n",
    "from scipy.stats import linregress\n",
    "import scipy.stats as st\n",
    "\n",
    "# Import API key\n",
    "from api_keys import weather_api_key\n",
    "\n",
    "# Incorporated citipy to determine city based on latitude and longitude\n",
    "from citipy import citipy\n",
    "\n",
    "# Output File (CSV)\n",
    "output_data_file = \"output_data/cities.csv\"\n",
    "\n",
    "# Range of latitudes and longitudes\n",
    "lat_range = (-90, 90)\n",
    "lng_range = (-180, 180)\n",
    "\n"
   ]
  },
  {
   "cell_type": "markdown",
   "metadata": {},
   "source": [
    "## Generate Cities List"
   ]
  },
  {
   "cell_type": "code",
   "execution_count": 21,
   "metadata": {},
   "outputs": [
    {
     "data": {
      "text/plain": [
       "593"
      ]
     },
     "execution_count": 21,
     "metadata": {},
     "output_type": "execute_result"
    }
   ],
   "source": [
    "# List for holding lat_lngs and cities\n",
    "lat_lngs = []\n",
    "cities = []\n",
    "\n",
    "# Create a set of random lat and lng combinations\n",
    "lats = np.random.uniform(lat_range[0], lat_range[1], size=1500)\n",
    "lngs = np.random.uniform(lng_range[0], lng_range[1], size=1500)\n",
    "lat_lngs = zip(lats, lngs)\n",
    "\n",
    "# Identify nearest city for each lat, lng combination\n",
    "for lat_lng in lat_lngs:\n",
    "    city = citipy.nearest_city(lat_lng[0], lat_lng[1]).city_name\n",
    "    \n",
    "    # If the city is unique, then add it to a our cities list\n",
    "    if city not in cities:\n",
    "        cities.append(city)\n",
    "\n",
    "# Print the city count to confirm sufficient count\n",
    "len(cities)\n",
    "\n"
   ]
  },
  {
   "cell_type": "markdown",
   "metadata": {},
   "source": [
    "### Perform API Calls\n",
    "* Perform a weather check on each city using a series of successive API calls.\n",
    "* Include a print log of each city as it'sbeing processed (with the city number and city name).\n"
   ]
  },
  {
   "cell_type": "code",
   "execution_count": 22,
   "metadata": {
    "scrolled": true
   },
   "outputs": [],
   "source": [
    "#create list\n",
    "\n",
    "city_name_list = []\n",
    "cloudiness_list = []\n",
    "country_list = []\n",
    "date_list = []\n",
    "humidity_list = []\n",
    "lat_list = []\n",
    "lng_list = []\n",
    "max_temp_list = []\n",
    "wind_speed_list = []\n",
    "index_counter = 0\n",
    "set_counter = 1"
   ]
  },
  {
   "cell_type": "code",
   "execution_count": 23,
   "metadata": {},
   "outputs": [
    {
     "name": "stdout",
     "output_type": "stream",
     "text": [
      "Processing Record 1 of Set 1 : faanui\n",
      "Processing Record 2 of Set 1 : rikitea\n",
      "Processing Record 3 of Set 1 : kudal\n",
      "Processing Record 4 of Set 1 : nome\n",
      "Processing Record 5 of Set 1 : barrow\n",
      "Processing Record 6 of Set 1 : torbay\n",
      "Processing Record 7 of Set 1 : kapaa\n",
      "Processing Record 8 of Set 1 : kodiak\n",
      "Processing Record 9 of Set 1 : tilichiki\n",
      "Processing Record 10 of Set 1 : nanortalik\n",
      "Processing Record 11 of Set 1 : luoyang\n",
      "Processing Record 12 of Set 1 : dunedin\n",
      "N/A\n",
      "Processing Record 13 of Set 1 : punta arenas\n",
      "Processing Record 14 of Set 1 : prince rupert\n",
      "N/A\n",
      "Processing Record 15 of Set 1 : bautzen\n",
      "Processing Record 16 of Set 1 : cabo san lucas\n",
      "Processing Record 17 of Set 1 : berlevag\n",
      "N/A\n",
      "N/A\n",
      "N/A\n",
      "Processing Record 18 of Set 1 : busselton\n",
      "Processing Record 19 of Set 1 : lorengau\n",
      "Processing Record 20 of Set 1 : gigmoto\n",
      "Processing Record 21 of Set 1 : hobart\n",
      "Processing Record 22 of Set 1 : amatitan\n",
      "Processing Record 23 of Set 1 : lonar\n",
      "Processing Record 24 of Set 1 : cape town\n",
      "Processing Record 25 of Set 1 : betioky\n",
      "Processing Record 26 of Set 1 : albany\n",
      "Processing Record 27 of Set 1 : bluff\n",
      "Processing Record 28 of Set 1 : atuona\n",
      "Processing Record 29 of Set 1 : sola\n",
      "Processing Record 30 of Set 1 : vaini\n",
      "Processing Record 31 of Set 1 : tabuk\n",
      "Processing Record 32 of Set 1 : ushuaia\n",
      "Processing Record 33 of Set 1 : sal rei\n",
      "Processing Record 34 of Set 1 : chokurdakh\n",
      "Processing Record 35 of Set 1 : shiyan\n",
      "Processing Record 36 of Set 1 : mataura\n",
      "Processing Record 37 of Set 1 : bredasdorp\n",
      "Processing Record 38 of Set 1 : grass valley\n",
      "Processing Record 39 of Set 1 : palmer\n",
      "Processing Record 40 of Set 1 : port elizabeth\n",
      "N/A\n",
      "Processing Record 41 of Set 1 : lebu\n",
      "Processing Record 42 of Set 1 : green river\n",
      "Processing Record 43 of Set 1 : samarai\n",
      "Processing Record 44 of Set 1 : zhigansk\n",
      "Processing Record 45 of Set 1 : nuuk\n",
      "Processing Record 46 of Set 1 : ayan\n",
      "Processing Record 47 of Set 1 : chivolo\n",
      "Processing Record 48 of Set 1 : cortez\n",
      "Processing Record 49 of Set 1 : airai\n",
      "Processing Record 50 of Set 1 : nemuro\n",
      "Processing Record 0 of Set 2 : stepantsevo\n",
      "N/A\n",
      "Processing Record 1 of Set 2 : alofi\n",
      "Processing Record 2 of Set 2 : zambezi\n",
      "Processing Record 3 of Set 2 : ribeira grande\n",
      "Processing Record 4 of Set 2 : sosva\n",
      "Processing Record 5 of Set 2 : atar\n",
      "N/A\n",
      "Processing Record 6 of Set 2 : haines junction\n",
      "Processing Record 7 of Set 2 : dikson\n",
      "Processing Record 8 of Set 2 : chuy\n",
      "Processing Record 9 of Set 2 : severo-kurilsk\n",
      "N/A\n",
      "Processing Record 10 of Set 2 : hambantota\n",
      "Processing Record 11 of Set 2 : bethel\n",
      "Processing Record 12 of Set 2 : majene\n",
      "Processing Record 13 of Set 2 : broome\n",
      "Processing Record 14 of Set 2 : alpena\n",
      "Processing Record 15 of Set 2 : tasiilaq\n",
      "N/A\n",
      "Processing Record 16 of Set 2 : cassilandia\n",
      "Processing Record 17 of Set 2 : dormont\n",
      "Processing Record 18 of Set 2 : puerto ayora\n",
      "Processing Record 19 of Set 2 : avarua\n",
      "Processing Record 20 of Set 2 : jamestown\n",
      "Processing Record 21 of Set 2 : coahuayana\n",
      "Processing Record 22 of Set 2 : dingle\n",
      "Processing Record 23 of Set 2 : new norfolk\n",
      "Processing Record 24 of Set 2 : khatanga\n",
      "Processing Record 25 of Set 2 : lagoa\n",
      "N/A\n",
      "Processing Record 26 of Set 2 : caraballeda\n",
      "Processing Record 27 of Set 2 : pechora\n",
      "Processing Record 28 of Set 2 : poum\n",
      "Processing Record 29 of Set 2 : butaritari\n",
      "Processing Record 30 of Set 2 : yarada\n",
      "Processing Record 31 of Set 2 : asahikawa\n",
      "Processing Record 32 of Set 2 : vasudevanallur\n",
      "Processing Record 33 of Set 2 : northam\n",
      "Processing Record 34 of Set 2 : saskylakh\n",
      "Processing Record 35 of Set 2 : raga\n",
      "Processing Record 36 of Set 2 : asuncion nochixtlan\n",
      "Processing Record 37 of Set 2 : sakakah\n",
      "Processing Record 38 of Set 2 : talnakh\n",
      "Processing Record 39 of Set 2 : dobrinka\n",
      "Processing Record 40 of Set 2 : cabedelo\n",
      "Processing Record 41 of Set 2 : east london\n",
      "Processing Record 42 of Set 2 : katherine\n",
      "Processing Record 43 of Set 2 : half moon bay\n",
      "Processing Record 44 of Set 2 : arraial do cabo\n",
      "Processing Record 45 of Set 2 : mahebourg\n",
      "Processing Record 46 of Set 2 : carbonia\n",
      "Processing Record 47 of Set 2 : alta floresta\n",
      "Processing Record 48 of Set 2 : turukhansk\n",
      "Processing Record 49 of Set 2 : port alfred\n",
      "Processing Record 50 of Set 2 : beira\n",
      "Processing Record 0 of Set 3 : port hedland\n",
      "Processing Record 1 of Set 3 : kathu\n",
      "Processing Record 2 of Set 3 : vardo\n",
      "N/A\n",
      "Processing Record 3 of Set 3 : nikolskoye\n",
      "N/A\n",
      "Processing Record 4 of Set 3 : san marcos\n",
      "Processing Record 5 of Set 3 : benghazi\n",
      "Processing Record 6 of Set 3 : nawabganj\n",
      "Processing Record 7 of Set 3 : yichang\n",
      "Processing Record 8 of Set 3 : castro\n",
      "Processing Record 9 of Set 3 : hilo\n",
      "Processing Record 10 of Set 3 : valdivia\n",
      "Processing Record 11 of Set 3 : longyearbyen\n",
      "Processing Record 12 of Set 3 : salalah\n",
      "Processing Record 13 of Set 3 : anloga\n",
      "N/A\n",
      "Processing Record 14 of Set 3 : port macquarie\n",
      "Processing Record 15 of Set 3 : vila franca do campo\n",
      "Processing Record 16 of Set 3 : erzin\n",
      "Processing Record 17 of Set 3 : sechura\n",
      "Processing Record 18 of Set 3 : norman wells\n",
      "Processing Record 19 of Set 3 : sibolga\n",
      "Processing Record 20 of Set 3 : tatvan\n",
      "Processing Record 21 of Set 3 : high level\n",
      "Processing Record 22 of Set 3 : esperance\n",
      "Processing Record 23 of Set 3 : saint-philippe\n",
      "Processing Record 24 of Set 3 : klaksvik\n",
      "Processing Record 25 of Set 3 : tuktoyaktuk\n",
      "Processing Record 26 of Set 3 : sept-iles\n",
      "Processing Record 27 of Set 3 : souillac\n",
      "Processing Record 28 of Set 3 : quarai\n",
      "Processing Record 29 of Set 3 : kaspiyskiy\n",
      "Processing Record 30 of Set 3 : mareeba\n",
      "Processing Record 31 of Set 3 : barzas\n",
      "Processing Record 32 of Set 3 : yellowknife\n",
      "Processing Record 33 of Set 3 : san cristobal\n",
      "Processing Record 34 of Set 3 : jatara\n",
      "Processing Record 35 of Set 3 : upernavik\n",
      "Processing Record 36 of Set 3 : puerto el triunfo\n",
      "Processing Record 37 of Set 3 : trinidad\n",
      "Processing Record 38 of Set 3 : quatre cocos\n",
      "Processing Record 39 of Set 3 : kenai\n",
      "Processing Record 40 of Set 3 : faya\n",
      "Processing Record 41 of Set 3 : touros\n",
      "Processing Record 42 of Set 3 : mogadishu\n",
      "N/A\n",
      "Processing Record 43 of Set 3 : hithadhoo\n",
      "Processing Record 44 of Set 3 : port lincoln\n",
      "Processing Record 45 of Set 3 : moletai\n",
      "Processing Record 46 of Set 3 : hermanus\n",
      "Processing Record 47 of Set 3 : aklavik\n",
      "Processing Record 48 of Set 3 : lamas\n",
      "Processing Record 49 of Set 3 : dubrovka\n",
      "Processing Record 50 of Set 3 : qaqortoq\n",
      "Processing Record 0 of Set 4 : ust-nera\n",
      "N/A\n",
      "Processing Record 1 of Set 4 : hasaki\n",
      "Processing Record 2 of Set 4 : conil\n",
      "Processing Record 3 of Set 4 : saint george\n",
      "Processing Record 4 of Set 4 : caxito\n",
      "Processing Record 5 of Set 4 : sasayama\n",
      "Processing Record 6 of Set 4 : saint-augustin\n",
      "Processing Record 7 of Set 4 : baherden\n",
      "Processing Record 8 of Set 4 : koping\n",
      "Processing Record 9 of Set 4 : maputo\n",
      "N/A\n",
      "Processing Record 10 of Set 4 : asyut\n",
      "Processing Record 11 of Set 4 : sayyan\n",
      "Processing Record 12 of Set 4 : namatanai\n",
      "Processing Record 13 of Set 4 : emba\n",
      "Processing Record 14 of Set 4 : vostok\n",
      "Processing Record 15 of Set 4 : winneba\n",
      "Processing Record 16 of Set 4 : bambous virieux\n",
      "Processing Record 17 of Set 4 : belle fourche\n",
      "N/A\n",
      "Processing Record 18 of Set 4 : kavieng\n",
      "Processing Record 19 of Set 4 : north bend\n",
      "Processing Record 20 of Set 4 : miquelon\n",
      "Processing Record 21 of Set 4 : aksu\n",
      "Processing Record 22 of Set 4 : georgetown\n",
      "Processing Record 23 of Set 4 : palafrugell\n",
      "Processing Record 24 of Set 4 : victoria\n",
      "Processing Record 25 of Set 4 : castro-urdiales\n",
      "Processing Record 26 of Set 4 : auki\n",
      "Processing Record 27 of Set 4 : cockburn town\n",
      "Processing Record 28 of Set 4 : indramayu\n",
      "Processing Record 29 of Set 4 : pacifica\n",
      "Processing Record 30 of Set 4 : chapais\n",
      "Processing Record 31 of Set 4 : tiksi\n",
      "Processing Record 32 of Set 4 : thayetmyo\n",
      "Processing Record 33 of Set 4 : meadow lake\n",
      "Processing Record 34 of Set 4 : tura\n",
      "Processing Record 35 of Set 4 : umba\n",
      "Processing Record 36 of Set 4 : xining\n",
      "Processing Record 37 of Set 4 : praia da vitoria\n",
      "Processing Record 38 of Set 4 : mlalo\n",
      "Processing Record 39 of Set 4 : dublyany\n",
      "Processing Record 40 of Set 4 : lavrentiya\n",
      "Processing Record 41 of Set 4 : abu kamal\n",
      "Processing Record 42 of Set 4 : fortuna\n",
      "Processing Record 43 of Set 4 : chicama\n",
      "Processing Record 44 of Set 4 : vila velha\n",
      "Processing Record 45 of Set 4 : kahului\n"
     ]
    },
    {
     "name": "stdout",
     "output_type": "stream",
     "text": [
      "Processing Record 46 of Set 4 : perdoes\n",
      "Processing Record 47 of Set 4 : tyristrand\n",
      "Processing Record 48 of Set 4 : binucayan\n",
      "Processing Record 49 of Set 4 : luanda\n",
      "Processing Record 50 of Set 4 : wattegama\n",
      "Processing Record 0 of Set 5 : bereda\n",
      "Processing Record 1 of Set 5 : adrar\n",
      "Processing Record 2 of Set 5 : mbumi\n",
      "Processing Record 3 of Set 5 : itoman\n",
      "Processing Record 4 of Set 5 : marzuq\n",
      "Processing Record 5 of Set 5 : gusau\n",
      "Processing Record 6 of Set 5 : carnarvon\n",
      "Processing Record 7 of Set 5 : ilulissat\n",
      "N/A\n",
      "Processing Record 8 of Set 5 : altay\n",
      "Processing Record 9 of Set 5 : constitucion\n",
      "Processing Record 10 of Set 5 : xuddur\n",
      "Processing Record 11 of Set 5 : irmo\n",
      "Processing Record 12 of Set 5 : meulaboh\n",
      "Processing Record 13 of Set 5 : provideniya\n",
      "N/A\n",
      "Processing Record 14 of Set 5 : yeppoon\n",
      "Processing Record 15 of Set 5 : khilok\n",
      "Processing Record 16 of Set 5 : sitka\n",
      "Processing Record 17 of Set 5 : batemans bay\n",
      "Processing Record 18 of Set 5 : qaanaaq\n",
      "Processing Record 19 of Set 5 : necochea\n",
      "N/A\n",
      "Processing Record 20 of Set 5 : cherskiy\n",
      "Processing Record 21 of Set 5 : walvis bay\n",
      "Processing Record 22 of Set 5 : pevek\n",
      "Processing Record 23 of Set 5 : nishihara\n",
      "Processing Record 24 of Set 5 : coquimbo\n",
      "Processing Record 25 of Set 5 : petropavlovsk-kamchatskiy\n",
      "Processing Record 26 of Set 5 : waddan\n",
      "Processing Record 27 of Set 5 : tornio\n",
      "Processing Record 28 of Set 5 : mar del plata\n",
      "Processing Record 29 of Set 5 : arinos\n",
      "Processing Record 30 of Set 5 : george\n",
      "Processing Record 31 of Set 5 : bonga\n",
      "N/A\n",
      "Processing Record 32 of Set 5 : amahai\n",
      "Processing Record 33 of Set 5 : katsuura\n",
      "Processing Record 34 of Set 5 : tucuman\n",
      "Processing Record 35 of Set 5 : vanavara\n",
      "Processing Record 36 of Set 5 : kanniyakumari\n",
      "Processing Record 37 of Set 5 : uglovskoye\n",
      "N/A\n",
      "Processing Record 38 of Set 5 : karratha\n",
      "Processing Record 39 of Set 5 : chambas\n",
      "Processing Record 40 of Set 5 : dongsheng\n",
      "Processing Record 41 of Set 5 : kaitangata\n",
      "N/A\n",
      "Processing Record 42 of Set 5 : maniwaki\n",
      "Processing Record 43 of Set 5 : barkhan\n",
      "Processing Record 44 of Set 5 : otane\n",
      "Processing Record 45 of Set 5 : erenhot\n",
      "Processing Record 46 of Set 5 : uva\n",
      "Processing Record 47 of Set 5 : carauari\n",
      "N/A\n",
      "Processing Record 48 of Set 5 : dawlatabad\n",
      "Processing Record 49 of Set 5 : bam\n",
      "Processing Record 50 of Set 5 : tuatapere\n",
      "Processing Record 0 of Set 6 : san bartolome de tirajana\n",
      "Processing Record 1 of Set 6 : bac lieu\n",
      "Processing Record 2 of Set 6 : wakkanai\n",
      "Processing Record 3 of Set 6 : thompson\n",
      "Processing Record 4 of Set 6 : mitsamiouli\n",
      "Processing Record 5 of Set 6 : tocopilla\n",
      "Processing Record 6 of Set 6 : grand gaube\n",
      "Processing Record 7 of Set 6 : husavik\n",
      "Processing Record 8 of Set 6 : oranjemund\n",
      "Processing Record 9 of Set 6 : yulara\n",
      "Processing Record 10 of Set 6 : libourne\n",
      "Processing Record 11 of Set 6 : kirakira\n",
      "Processing Record 12 of Set 6 : gat\n",
      "Processing Record 13 of Set 6 : havoysund\n",
      "Processing Record 14 of Set 6 : stromness\n",
      "N/A\n",
      "Processing Record 15 of Set 6 : kloulklubed\n",
      "Processing Record 16 of Set 6 : shache\n",
      "Processing Record 17 of Set 6 : araouane\n",
      "Processing Record 18 of Set 6 : bayan\n",
      "Processing Record 19 of Set 6 : clyde river\n",
      "Processing Record 20 of Set 6 : mayo\n",
      "Processing Record 21 of Set 6 : tambopata\n",
      "Processing Record 22 of Set 6 : lodja\n",
      "Processing Record 23 of Set 6 : port augusta\n",
      "Processing Record 24 of Set 6 : gejiu\n",
      "Processing Record 25 of Set 6 : colomi\n",
      "Processing Record 26 of Set 6 : ankara\n",
      "Processing Record 27 of Set 6 : ixtapa\n",
      "Processing Record 28 of Set 6 : tual\n",
      "Processing Record 29 of Set 6 : zhengjiatun\n",
      "Processing Record 30 of Set 6 : san rafael\n",
      "Processing Record 31 of Set 6 : karakol\n",
      "Processing Record 32 of Set 6 : alice springs\n",
      "Processing Record 33 of Set 6 : porecatu\n",
      "N/A\n",
      "Processing Record 34 of Set 6 : udachnyy\n",
      "Processing Record 35 of Set 6 : duyun\n",
      "Processing Record 36 of Set 6 : longjiang\n",
      "Processing Record 37 of Set 6 : karaton\n",
      "Processing Record 38 of Set 6 : khasan\n",
      "N/A\n",
      "Processing Record 39 of Set 6 : lincoln\n",
      "Processing Record 40 of Set 6 : villarrica\n",
      "Processing Record 41 of Set 6 : vammala\n",
      "Processing Record 42 of Set 6 : hami\n",
      "Processing Record 43 of Set 6 : pitimbu\n",
      "Processing Record 44 of Set 6 : osoyoos\n",
      "Processing Record 45 of Set 6 : viking\n",
      "Processing Record 46 of Set 6 : marsa matruh\n",
      "Processing Record 47 of Set 6 : broken hill\n",
      "Processing Record 48 of Set 6 : chumikan\n",
      "N/A\n",
      "Processing Record 49 of Set 6 : pedernales\n",
      "Processing Record 50 of Set 6 : bathsheba\n",
      "Processing Record 0 of Set 7 : hofn\n",
      "Processing Record 1 of Set 7 : pisco\n",
      "Processing Record 2 of Set 7 : rodrigues alves\n",
      "Processing Record 3 of Set 7 : tahta\n",
      "Processing Record 4 of Set 7 : magistralnyy\n",
      "Processing Record 5 of Set 7 : ponnani\n",
      "Processing Record 6 of Set 7 : virginia beach\n",
      "Processing Record 7 of Set 7 : verkhnedneprovskiy\n",
      "Processing Record 8 of Set 7 : boguchany\n",
      "Processing Record 9 of Set 7 : ojinaga\n",
      "Processing Record 10 of Set 7 : zuwarah\n",
      "Processing Record 11 of Set 7 : ishigaki\n",
      "Processing Record 12 of Set 7 : sabha\n",
      "N/A\n",
      "Processing Record 13 of Set 7 : inirida\n",
      "Processing Record 14 of Set 7 : puerto narino\n",
      "Processing Record 15 of Set 7 : san juan de la vega\n",
      "Processing Record 16 of Set 7 : ville-marie\n",
      "Processing Record 17 of Set 7 : todos santos\n",
      "Processing Record 18 of Set 7 : portland\n",
      "Processing Record 19 of Set 7 : tabou\n",
      "Processing Record 20 of Set 7 : cururupu\n",
      "Processing Record 21 of Set 7 : leningradskiy\n",
      "Processing Record 22 of Set 7 : tunceli\n",
      "N/A\n",
      "Processing Record 23 of Set 7 : te anau\n",
      "Processing Record 24 of Set 7 : bardiyah\n",
      "Processing Record 25 of Set 7 : qeshm\n",
      "Processing Record 26 of Set 7 : bassar\n",
      "Processing Record 27 of Set 7 : chazuta\n",
      "Processing Record 28 of Set 7 : baykit\n",
      "Processing Record 29 of Set 7 : uinskoye\n",
      "Processing Record 30 of Set 7 : vestmannaeyjar\n",
      "Processing Record 31 of Set 7 : serebryanyy bor\n",
      "Processing Record 32 of Set 7 : fez\n",
      "Processing Record 33 of Set 7 : songkhla\n",
      "Processing Record 34 of Set 7 : yumen\n",
      "Processing Record 35 of Set 7 : ajdabiya\n",
      "Processing Record 36 of Set 7 : sasd\n",
      "Processing Record 37 of Set 7 : sinnamary\n",
      "Processing Record 38 of Set 7 : geraldton\n",
      "Processing Record 39 of Set 7 : ust-kuyga\n",
      "Processing Record 40 of Set 7 : coxim\n",
      "Processing Record 41 of Set 7 : santa cruz\n",
      "Processing Record 42 of Set 7 : wagga wagga\n",
      "Processing Record 43 of Set 7 : colares\n",
      "Processing Record 44 of Set 7 : viedma\n",
      "Processing Record 45 of Set 7 : kupang\n",
      "Processing Record 46 of Set 7 : narsaq\n",
      "Processing Record 47 of Set 7 : gladstone\n",
      "Processing Record 48 of Set 7 : iwanai\n",
      "Processing Record 49 of Set 7 : kralendijk\n",
      "Processing Record 50 of Set 7 : tessalit\n",
      "N/A\n",
      "Processing Record 0 of Set 8 : narasannapeta\n",
      "Processing Record 1 of Set 8 : kaohsiung\n",
      "Processing Record 2 of Set 8 : tezu\n",
      "Processing Record 3 of Set 8 : cheyenne\n",
      "Processing Record 4 of Set 8 : tateyama\n",
      "Processing Record 5 of Set 8 : bambanglipuro\n",
      "Processing Record 6 of Set 8 : alvaraes\n",
      "Processing Record 7 of Set 8 : cidreira\n",
      "Processing Record 8 of Set 8 : diego de almagro\n",
      "Processing Record 9 of Set 8 : manta\n",
      "Processing Record 10 of Set 8 : poli\n",
      "Processing Record 11 of Set 8 : chunoyar\n",
      "Processing Record 12 of Set 8 : songea\n",
      "Processing Record 13 of Set 8 : port blair\n",
      "Processing Record 14 of Set 8 : tres arroyos\n",
      "Processing Record 15 of Set 8 : santa fe\n",
      "Processing Record 16 of Set 8 : woodward\n",
      "Processing Record 17 of Set 8 : shingu\n",
      "Processing Record 18 of Set 8 : sorland\n",
      "Processing Record 19 of Set 8 : lata\n",
      "Processing Record 20 of Set 8 : labytnangi\n",
      "Processing Record 21 of Set 8 : dali\n",
      "Processing Record 22 of Set 8 : vao\n",
      "Processing Record 23 of Set 8 : show low\n",
      "Processing Record 24 of Set 8 : russell\n",
      "Processing Record 25 of Set 8 : codrington\n",
      "Processing Record 26 of Set 8 : torzhok\n",
      "N/A\n",
      "Processing Record 27 of Set 8 : becerril\n",
      "Processing Record 28 of Set 8 : nilai\n",
      "Processing Record 29 of Set 8 : mayumba\n",
      "Processing Record 30 of Set 8 : oudtshoorn\n",
      "N/A\n",
      "Processing Record 31 of Set 8 : gotsu\n",
      "Processing Record 32 of Set 8 : tignere\n",
      "Processing Record 33 of Set 8 : saint-francois\n",
      "Processing Record 34 of Set 8 : rovaniemi\n",
      "Processing Record 35 of Set 8 : aswan\n",
      "Processing Record 36 of Set 8 : sioux lookout\n",
      "Processing Record 37 of Set 8 : salinopolis\n",
      "Processing Record 38 of Set 8 : brae\n",
      "Processing Record 39 of Set 8 : trairi\n",
      "Processing Record 40 of Set 8 : kamenka\n"
     ]
    },
    {
     "name": "stdout",
     "output_type": "stream",
     "text": [
      "Processing Record 41 of Set 8 : porto santo\n",
      "Processing Record 42 of Set 8 : blagoyevo\n",
      "Processing Record 43 of Set 8 : korla\n",
      "Processing Record 44 of Set 8 : chegdomyn\n",
      "Processing Record 45 of Set 8 : saint-georges\n",
      "Processing Record 46 of Set 8 : lewisporte\n",
      "Processing Record 47 of Set 8 : praia\n",
      "Processing Record 48 of Set 8 : olinda\n",
      "Processing Record 49 of Set 8 : harrismith\n",
      "Processing Record 50 of Set 8 : saint-hyacinthe\n",
      "Processing Record 0 of Set 9 : yamada\n",
      "Processing Record 1 of Set 9 : athabasca\n",
      "Processing Record 2 of Set 9 : owerri\n",
      "Processing Record 3 of Set 9 : morehead\n",
      "Processing Record 4 of Set 9 : brumado\n",
      "Processing Record 5 of Set 9 : ancud\n",
      "Processing Record 6 of Set 9 : guerrero negro\n",
      "Processing Record 7 of Set 9 : kieta\n",
      "Processing Record 8 of Set 9 : gornopravdinsk\n",
      "Processing Record 9 of Set 9 : vestmanna\n",
      "N/A\n",
      "Processing Record 10 of Set 9 : shimoda\n",
      "Processing Record 11 of Set 9 : pineville\n",
      "Processing Record 12 of Set 9 : flinders\n",
      "Processing Record 13 of Set 9 : nabire\n",
      "N/A\n",
      "Processing Record 14 of Set 9 : malpura\n",
      "Processing Record 15 of Set 9 : luderitz\n",
      "Processing Record 16 of Set 9 : bilibino\n",
      "Processing Record 17 of Set 9 : baghdad\n",
      "Processing Record 18 of Set 9 : yar-sale\n",
      "Processing Record 19 of Set 9 : kaseda\n",
      "Processing Record 20 of Set 9 : blyznyuky\n",
      "Processing Record 21 of Set 9 : dudinka\n",
      "N/A\n",
      "Processing Record 22 of Set 9 : luba\n",
      "Processing Record 23 of Set 9 : vlasenica\n",
      "Processing Record 24 of Set 9 : khanpur\n",
      "Processing Record 25 of Set 9 : tarakan\n",
      "Processing Record 26 of Set 9 : bilma\n",
      "Processing Record 27 of Set 9 : qingdao\n",
      "Processing Record 28 of Set 9 : ayni\n",
      "Processing Record 29 of Set 9 : naze\n",
      "Processing Record 30 of Set 9 : ponta do sol\n",
      "Processing Record 31 of Set 9 : jieshi\n",
      "Processing Record 32 of Set 9 : ostrovnoy\n",
      "Processing Record 33 of Set 9 : nokaneng\n",
      "Processing Record 34 of Set 9 : sao miguel do araguaia\n",
      "Processing Record 35 of Set 9 : tabuny\n",
      "Processing Record 36 of Set 9 : kavaratti\n",
      "Processing Record 37 of Set 9 : plouzane\n",
      "Processing Record 38 of Set 9 : indianola\n",
      "Processing Record 39 of Set 9 : saldanha\n",
      "Processing Record 40 of Set 9 : kill\n",
      "N/A\n",
      "Processing Record 41 of Set 9 : mazatlan\n",
      "Processing Record 42 of Set 9 : tiznit\n",
      "Processing Record 43 of Set 9 : hirado\n",
      "Processing Record 44 of Set 9 : chalmette\n",
      "N/A\n",
      "Processing Record 45 of Set 9 : xam nua\n",
      "Processing Record 46 of Set 9 : demak\n",
      "Processing Record 47 of Set 9 : kurmanayevka\n",
      "Processing Record 48 of Set 9 : piranshahr\n",
      "Processing Record 49 of Set 9 : puerto madryn\n",
      "Processing Record 50 of Set 9 : polunochnoye\n",
      "Processing Record 0 of Set 10 : xuchang\n",
      "Processing Record 1 of Set 10 : bengkulu\n",
      "Processing Record 2 of Set 10 : wilmington\n",
      "Processing Record 3 of Set 10 : duki\n",
      "Processing Record 4 of Set 10 : honavar\n",
      "Processing Record 5 of Set 10 : namibe\n",
      "Processing Record 6 of Set 10 : halifax\n",
      "Processing Record 7 of Set 10 : promyshlennaya\n",
      "N/A\n",
      "Processing Record 8 of Set 10 : labrea\n",
      "Processing Record 9 of Set 10 : kormilovka\n",
      "N/A\n",
      "Processing Record 10 of Set 10 : sao filipe\n",
      "N/A\n",
      "Processing Record 11 of Set 10 : suclayin\n",
      "Processing Record 12 of Set 10 : dryden\n",
      "Processing Record 13 of Set 10 : taoudenni\n",
      "Processing Record 14 of Set 10 : oum hadjer\n",
      "Processing Record 15 of Set 10 : goreloye\n",
      "Processing Record 16 of Set 10 : bayir\n",
      "Processing Record 17 of Set 10 : pangnirtung\n",
      "Processing Record 18 of Set 10 : batagay\n",
      "Processing Record 19 of Set 10 : inhambane\n",
      "Processing Record 20 of Set 10 : pierre\n",
      "Processing Record 21 of Set 10 : iqaluit\n",
      "Processing Record 22 of Set 10 : juneau\n",
      "Processing Record 23 of Set 10 : chippewa falls\n",
      "Processing Record 24 of Set 10 : bonfim\n",
      "Processing Record 25 of Set 10 : igarka\n",
      "N/A\n",
      "Processing Record 26 of Set 10 : kiruna\n",
      "N/A\n",
      "Processing Record 27 of Set 10 : rio brilhante\n",
      "Processing Record 28 of Set 10 : baijiantan\n",
      "Processing Record 29 of Set 10 : sorong\n",
      "Processing Record 30 of Set 10 : taltal\n",
      "Processing Record 31 of Set 10 : pacific grove\n",
      "Processing Record 32 of Set 10 : debre tabor\n",
      "Processing Record 33 of Set 10 : ucluelet\n",
      "Processing Record 34 of Set 10 : san patricio\n",
      "Processing Record 35 of Set 10 : college\n",
      "Processing Record 36 of Set 10 : kisangani\n",
      "Processing Record 37 of Set 10 : koumac\n",
      "Processing Record 38 of Set 10 : noyabrsk\n",
      "Processing Record 39 of Set 10 : saint-pierre\n",
      "Processing Record 40 of Set 10 : batagay-alyta\n",
      "Processing Record 41 of Set 10 : avera\n",
      "Processing Record 42 of Set 10 : polyarnyy\n",
      "Processing Record 43 of Set 10 : gerash\n",
      "Processing Record 44 of Set 10 : caravelas\n",
      "N/A\n",
      "Processing Record 45 of Set 10 : sibu\n",
      "Processing Record 46 of Set 10 : muros\n",
      "Processing Record 47 of Set 10 : ishinomaki\n",
      "Processing Record 48 of Set 10 : yomou\n",
      "Processing Record 49 of Set 10 : fayaoue\n",
      "Processing Record 50 of Set 10 : shelburne\n",
      "Processing Record 0 of Set 11 : hoquiam\n",
      "Processing Record 1 of Set 11 : kaduy\n",
      "Processing Record 2 of Set 11 : zalantun\n",
      "N/A\n",
      "Processing Record 3 of Set 11 : khrebtovaya\n",
      "Processing Record 4 of Set 11 : peleduy\n",
      "Processing Record 5 of Set 11 : burns lake\n",
      "Processing Record 6 of Set 11 : najran\n",
      "Processing Record 7 of Set 11 : boqueirao\n",
      "Processing Record 8 of Set 11 : siena\n",
      "N/A\n",
      "Processing Record 9 of Set 11 : hushitai\n",
      "Processing Record 10 of Set 11 : acapulco\n",
      "Processing Record 11 of Set 11 : muncar\n",
      "Processing Record 12 of Set 11 : srednekolymsk\n",
      "Processing Record 13 of Set 11 : bairiki\n",
      "Processing Record 14 of Set 11 : sembe\n",
      "Processing Record 15 of Set 11 : saint anthony\n",
      "N/A\n",
      "Processing Record 16 of Set 11 : bondo\n",
      "Processing Record 17 of Set 11 : setubal\n",
      "Processing Record 18 of Set 11 : westport\n",
      "Processing Record 19 of Set 11 : teya\n",
      "Processing Record 20 of Set 11 : jackson\n",
      "N/A\n",
      "Processing Record 21 of Set 11 : quesnel\n",
      "Processing Record 22 of Set 11 : stony plain\n",
      "Processing Record 23 of Set 11 : lompoc\n",
      "Processing Record 24 of Set 11 : krasnoturansk\n",
      "Processing Record 25 of Set 11 : montes claros\n",
      "Processing Record 26 of Set 11 : serafimovich\n",
      "Processing Record 27 of Set 11 : nizhniy tsasuchey\n",
      "Processing Record 28 of Set 11 : sambava\n",
      "Processing Record 29 of Set 11 : filimonovo\n",
      "Processing Record 30 of Set 11 : severnyy\n",
      "Processing Record 31 of Set 11 : uvalde\n",
      "Processing Record 32 of Set 11 : deputatskiy\n",
      "N/A\n",
      "Processing Record 33 of Set 11 : kununurra\n"
     ]
    }
   ],
   "source": [
    "base_url = \"http://api.openweathermap.org/data/2.5/weather?\"\n",
    "units = \"imperial\"\n",
    "query_url = f\"{base_url}appid={weather_api_key}&units={units}&q=\"\n",
    "\n",
    "\n",
    "# for loop and add to lists\n",
    "for index, city in enumerate(cities, start = 1):\n",
    "    try:\n",
    "        response = requests.get(query_url + city).json()\n",
    "        city_name_list.append(response[\"name\"])\n",
    "        cloudiness_list.append(response[\"clouds\"][\"all\"])\n",
    "        country_list.append(response[\"sys\"][\"country\"])\n",
    "        date_list.append(response[\"dt\"])\n",
    "        humidity_list.append(response[\"main\"][\"humidity\"])\n",
    "        lat_list.append(response[\"coord\"][\"lat\"])\n",
    "        lng_list.append(response[\"coord\"][\"lon\"])\n",
    "        max_temp_list.append(response['main']['temp_max'])\n",
    "        wind_speed_list.append(response[\"wind\"][\"speed\"])\n",
    "        if index_counter > 49:\n",
    "            index_counter = 0\n",
    "            set_counter = set_counter + 1\n",
    "    \n",
    "        else:\n",
    "            index_counter = index_counter + 1\n",
    "            \n",
    "        print(f\"Processing Record {index_counter} of Set {set_counter} : {city}\") \n",
    "  \n",
    "    except(KeyError, IndexError):\n",
    "        print(\"N/A\")"
   ]
  },
  {
   "cell_type": "markdown",
   "metadata": {},
   "source": [
    "### Convert Raw Data to DataFrame\n",
    "* Export the city data into a .csv.\n",
    "* Display the DataFrame"
   ]
  },
  {
   "cell_type": "code",
   "execution_count": 29,
   "metadata": {},
   "outputs": [],
   "source": [
    "# make new data frame\n",
    "weather_dict = pd.DataFrame({ \n",
    "                \"City\" : city_name_list,\n",
    "                \"Cloudiness\" : cloudiness_list,\n",
    "                \"Country\" : country_list,\n",
    "                \"Date\" : date_list,\n",
    "                \"Humidity\" : humidity_list,\n",
    "                \"Lat\" : lat_list,\n",
    "                \"Lng\" : lng_list,\n",
    "                \"Max Temp\" : max_temp_list,\n",
    "                \"Wind Speed\" : wind_speed_list\n",
    "})"
   ]
  },
  {
   "cell_type": "code",
   "execution_count": 30,
   "metadata": {},
   "outputs": [
    {
     "data": {
      "text/html": [
       "<div>\n",
       "<style scoped>\n",
       "    .dataframe tbody tr th:only-of-type {\n",
       "        vertical-align: middle;\n",
       "    }\n",
       "\n",
       "    .dataframe tbody tr th {\n",
       "        vertical-align: top;\n",
       "    }\n",
       "\n",
       "    .dataframe thead th {\n",
       "        text-align: right;\n",
       "    }\n",
       "</style>\n",
       "<table border=\"1\" class=\"dataframe\">\n",
       "  <thead>\n",
       "    <tr style=\"text-align: right;\">\n",
       "      <th></th>\n",
       "      <th>City</th>\n",
       "      <th>Cloudiness</th>\n",
       "      <th>Country</th>\n",
       "      <th>Date</th>\n",
       "      <th>Humidity</th>\n",
       "      <th>Lat</th>\n",
       "      <th>Lng</th>\n",
       "      <th>Max Temp</th>\n",
       "      <th>Wind Speed</th>\n",
       "    </tr>\n",
       "  </thead>\n",
       "  <tbody>\n",
       "    <tr>\n",
       "      <th>0</th>\n",
       "      <td>Faanui</td>\n",
       "      <td>100</td>\n",
       "      <td>PF</td>\n",
       "      <td>1622434326</td>\n",
       "      <td>72</td>\n",
       "      <td>-16.4833</td>\n",
       "      <td>-151.7500</td>\n",
       "      <td>79.27</td>\n",
       "      <td>16.62</td>\n",
       "    </tr>\n",
       "    <tr>\n",
       "      <th>1</th>\n",
       "      <td>Rikitea</td>\n",
       "      <td>56</td>\n",
       "      <td>PF</td>\n",
       "      <td>1622434327</td>\n",
       "      <td>69</td>\n",
       "      <td>-23.1203</td>\n",
       "      <td>-134.9692</td>\n",
       "      <td>75.07</td>\n",
       "      <td>11.54</td>\n",
       "    </tr>\n",
       "    <tr>\n",
       "      <th>2</th>\n",
       "      <td>Kudāl</td>\n",
       "      <td>86</td>\n",
       "      <td>IN</td>\n",
       "      <td>1622434327</td>\n",
       "      <td>72</td>\n",
       "      <td>16.0333</td>\n",
       "      <td>73.6833</td>\n",
       "      <td>84.72</td>\n",
       "      <td>7.02</td>\n",
       "    </tr>\n",
       "    <tr>\n",
       "      <th>3</th>\n",
       "      <td>Nome</td>\n",
       "      <td>1</td>\n",
       "      <td>US</td>\n",
       "      <td>1622434327</td>\n",
       "      <td>50</td>\n",
       "      <td>64.5011</td>\n",
       "      <td>-165.4064</td>\n",
       "      <td>57.16</td>\n",
       "      <td>9.22</td>\n",
       "    </tr>\n",
       "    <tr>\n",
       "      <th>4</th>\n",
       "      <td>Barrow</td>\n",
       "      <td>90</td>\n",
       "      <td>US</td>\n",
       "      <td>1622434203</td>\n",
       "      <td>80</td>\n",
       "      <td>71.2906</td>\n",
       "      <td>-156.7887</td>\n",
       "      <td>30.22</td>\n",
       "      <td>12.66</td>\n",
       "    </tr>\n",
       "    <tr>\n",
       "      <th>...</th>\n",
       "      <td>...</td>\n",
       "      <td>...</td>\n",
       "      <td>...</td>\n",
       "      <td>...</td>\n",
       "      <td>...</td>\n",
       "      <td>...</td>\n",
       "      <td>...</td>\n",
       "      <td>...</td>\n",
       "      <td>...</td>\n",
       "    </tr>\n",
       "    <tr>\n",
       "      <th>538</th>\n",
       "      <td>Filimonovo</td>\n",
       "      <td>32</td>\n",
       "      <td>RU</td>\n",
       "      <td>1622434267</td>\n",
       "      <td>55</td>\n",
       "      <td>56.2011</td>\n",
       "      <td>95.4611</td>\n",
       "      <td>50.00</td>\n",
       "      <td>4.61</td>\n",
       "    </tr>\n",
       "    <tr>\n",
       "      <th>539</th>\n",
       "      <td>Severnyy</td>\n",
       "      <td>90</td>\n",
       "      <td>RU</td>\n",
       "      <td>1622434491</td>\n",
       "      <td>93</td>\n",
       "      <td>50.6770</td>\n",
       "      <td>36.5532</td>\n",
       "      <td>50.04</td>\n",
       "      <td>6.71</td>\n",
       "    </tr>\n",
       "    <tr>\n",
       "      <th>540</th>\n",
       "      <td>Uvalde</td>\n",
       "      <td>1</td>\n",
       "      <td>US</td>\n",
       "      <td>1622434491</td>\n",
       "      <td>68</td>\n",
       "      <td>29.3669</td>\n",
       "      <td>-99.7670</td>\n",
       "      <td>74.35</td>\n",
       "      <td>15.10</td>\n",
       "    </tr>\n",
       "    <tr>\n",
       "      <th>541</th>\n",
       "      <td>Deputatsky</td>\n",
       "      <td>8</td>\n",
       "      <td>RU</td>\n",
       "      <td>1622434492</td>\n",
       "      <td>36</td>\n",
       "      <td>69.3000</td>\n",
       "      <td>139.9000</td>\n",
       "      <td>62.19</td>\n",
       "      <td>17.47</td>\n",
       "    </tr>\n",
       "    <tr>\n",
       "      <th>542</th>\n",
       "      <td>Kununurra</td>\n",
       "      <td>64</td>\n",
       "      <td>AU</td>\n",
       "      <td>1622434492</td>\n",
       "      <td>23</td>\n",
       "      <td>-15.7667</td>\n",
       "      <td>128.7333</td>\n",
       "      <td>85.98</td>\n",
       "      <td>3.44</td>\n",
       "    </tr>\n",
       "  </tbody>\n",
       "</table>\n",
       "<p>543 rows × 9 columns</p>\n",
       "</div>"
      ],
      "text/plain": [
       "           City  Cloudiness Country        Date  Humidity      Lat       Lng  \\\n",
       "0        Faanui         100      PF  1622434326        72 -16.4833 -151.7500   \n",
       "1       Rikitea          56      PF  1622434327        69 -23.1203 -134.9692   \n",
       "2         Kudāl          86      IN  1622434327        72  16.0333   73.6833   \n",
       "3          Nome           1      US  1622434327        50  64.5011 -165.4064   \n",
       "4        Barrow          90      US  1622434203        80  71.2906 -156.7887   \n",
       "..          ...         ...     ...         ...       ...      ...       ...   \n",
       "538  Filimonovo          32      RU  1622434267        55  56.2011   95.4611   \n",
       "539    Severnyy          90      RU  1622434491        93  50.6770   36.5532   \n",
       "540      Uvalde           1      US  1622434491        68  29.3669  -99.7670   \n",
       "541  Deputatsky           8      RU  1622434492        36  69.3000  139.9000   \n",
       "542   Kununurra          64      AU  1622434492        23 -15.7667  128.7333   \n",
       "\n",
       "     Max Temp  Wind Speed  \n",
       "0       79.27       16.62  \n",
       "1       75.07       11.54  \n",
       "2       84.72        7.02  \n",
       "3       57.16        9.22  \n",
       "4       30.22       12.66  \n",
       "..        ...         ...  \n",
       "538     50.00        4.61  \n",
       "539     50.04        6.71  \n",
       "540     74.35       15.10  \n",
       "541     62.19       17.47  \n",
       "542     85.98        3.44  \n",
       "\n",
       "[543 rows x 9 columns]"
      ]
     },
     "execution_count": 30,
     "metadata": {},
     "output_type": "execute_result"
    }
   ],
   "source": [
    "weather_dict"
   ]
  },
  {
   "cell_type": "code",
   "execution_count": null,
   "metadata": {},
   "outputs": [],
   "source": []
  },
  {
   "cell_type": "markdown",
   "metadata": {},
   "source": [
    "## Inspect the data and remove the cities where the humidity > 100%.\n",
    "----\n",
    "Skip this step if there are no cities that have humidity > 100%. "
   ]
  },
  {
   "cell_type": "code",
   "execution_count": 31,
   "metadata": {},
   "outputs": [],
   "source": [
    "test = weather_dict.loc[(weather_dict[\"Humidity\"] >= 100)].dropna()\n"
   ]
  },
  {
   "cell_type": "code",
   "execution_count": 32,
   "metadata": {},
   "outputs": [
    {
     "data": {
      "text/html": [
       "<div>\n",
       "<style scoped>\n",
       "    .dataframe tbody tr th:only-of-type {\n",
       "        vertical-align: middle;\n",
       "    }\n",
       "\n",
       "    .dataframe tbody tr th {\n",
       "        vertical-align: top;\n",
       "    }\n",
       "\n",
       "    .dataframe thead th {\n",
       "        text-align: right;\n",
       "    }\n",
       "</style>\n",
       "<table border=\"1\" class=\"dataframe\">\n",
       "  <thead>\n",
       "    <tr style=\"text-align: right;\">\n",
       "      <th></th>\n",
       "      <th>City</th>\n",
       "      <th>Cloudiness</th>\n",
       "      <th>Country</th>\n",
       "      <th>Date</th>\n",
       "      <th>Humidity</th>\n",
       "      <th>Lat</th>\n",
       "      <th>Lng</th>\n",
       "      <th>Max Temp</th>\n",
       "      <th>Wind Speed</th>\n",
       "    </tr>\n",
       "  </thead>\n",
       "  <tbody>\n",
       "    <tr>\n",
       "      <th>76</th>\n",
       "      <td>Caraballeda</td>\n",
       "      <td>37</td>\n",
       "      <td>VE</td>\n",
       "      <td>1622434350</td>\n",
       "      <td>100</td>\n",
       "      <td>10.6112</td>\n",
       "      <td>-66.8522</td>\n",
       "      <td>78.87</td>\n",
       "      <td>7.38</td>\n",
       "    </tr>\n",
       "    <tr>\n",
       "      <th>203</th>\n",
       "      <td>Bereda</td>\n",
       "      <td>26</td>\n",
       "      <td>ES</td>\n",
       "      <td>1622434387</td>\n",
       "      <td>100</td>\n",
       "      <td>43.2686</td>\n",
       "      <td>-7.5406</td>\n",
       "      <td>55.15</td>\n",
       "      <td>2.37</td>\n",
       "    </tr>\n",
       "    <tr>\n",
       "      <th>372</th>\n",
       "      <td>Woodward</td>\n",
       "      <td>90</td>\n",
       "      <td>US</td>\n",
       "      <td>1622434440</td>\n",
       "      <td>100</td>\n",
       "      <td>36.4337</td>\n",
       "      <td>-99.3904</td>\n",
       "      <td>65.43</td>\n",
       "      <td>15.48</td>\n",
       "    </tr>\n",
       "    <tr>\n",
       "      <th>416</th>\n",
       "      <td>Vestmanna</td>\n",
       "      <td>90</td>\n",
       "      <td>FO</td>\n",
       "      <td>1622434453</td>\n",
       "      <td>100</td>\n",
       "      <td>62.1564</td>\n",
       "      <td>-7.1664</td>\n",
       "      <td>49.12</td>\n",
       "      <td>15.30</td>\n",
       "    </tr>\n",
       "    <tr>\n",
       "      <th>428</th>\n",
       "      <td>Dudinka</td>\n",
       "      <td>100</td>\n",
       "      <td>RU</td>\n",
       "      <td>1622434458</td>\n",
       "      <td>100</td>\n",
       "      <td>69.4058</td>\n",
       "      <td>86.1778</td>\n",
       "      <td>33.57</td>\n",
       "      <td>9.55</td>\n",
       "    </tr>\n",
       "    <tr>\n",
       "      <th>532</th>\n",
       "      <td>Lompoc</td>\n",
       "      <td>90</td>\n",
       "      <td>US</td>\n",
       "      <td>1622434238</td>\n",
       "      <td>100</td>\n",
       "      <td>34.6391</td>\n",
       "      <td>-120.4579</td>\n",
       "      <td>64.11</td>\n",
       "      <td>5.57</td>\n",
       "    </tr>\n",
       "  </tbody>\n",
       "</table>\n",
       "</div>"
      ],
      "text/plain": [
       "            City  Cloudiness Country        Date  Humidity      Lat       Lng  \\\n",
       "76   Caraballeda          37      VE  1622434350       100  10.6112  -66.8522   \n",
       "203       Bereda          26      ES  1622434387       100  43.2686   -7.5406   \n",
       "372     Woodward          90      US  1622434440       100  36.4337  -99.3904   \n",
       "416    Vestmanna          90      FO  1622434453       100  62.1564   -7.1664   \n",
       "428      Dudinka         100      RU  1622434458       100  69.4058   86.1778   \n",
       "532       Lompoc          90      US  1622434238       100  34.6391 -120.4579   \n",
       "\n",
       "     Max Temp  Wind Speed  \n",
       "76      78.87        7.38  \n",
       "203     55.15        2.37  \n",
       "372     65.43       15.48  \n",
       "416     49.12       15.30  \n",
       "428     33.57        9.55  \n",
       "532     64.11        5.57  "
      ]
     },
     "execution_count": 32,
     "metadata": {},
     "output_type": "execute_result"
    }
   ],
   "source": [
    "#  Get the indices of cities that have humidity over 100%.\n",
    "test"
   ]
  },
  {
   "cell_type": "code",
   "execution_count": 28,
   "metadata": {},
   "outputs": [],
   "source": [
    "# Make a new DataFrame equal to the city data to drop all humidity outliers by index.\n",
    "# Passing \"inplace=False\" will make a copy of the city_data DataFrame, which we call \"clean_city_data\".\n"
   ]
  },
  {
   "cell_type": "code",
   "execution_count": null,
   "metadata": {},
   "outputs": [],
   "source": [
    "\n"
   ]
  },
  {
   "cell_type": "markdown",
   "metadata": {},
   "source": [
    "## Plotting the Data\n",
    "* Use proper labeling of the plots using plot titles (including date of analysis) and axes labels.\n",
    "* Save the plotted figures as .pngs."
   ]
  },
  {
   "cell_type": "markdown",
   "metadata": {},
   "source": [
    "## Latitude vs. Temperature Plot"
   ]
  },
  {
   "cell_type": "code",
   "execution_count": 48,
   "metadata": {
    "scrolled": true
   },
   "outputs": [
    {
     "data": {
      "image/png": "[encoded data removed]",
      "text/plain": [
       "<Figure size 432x288 with 1 Axes>"
      ]
     },
     "metadata": {
      "needs_background": "light"
     },
     "output_type": "display_data"
    }
   ],
   "source": [
    "#Latitude vs. Temperature Plot \n",
    "plt.scatter(weather_dict[\"Lat\"], weather_dict[\"Max Temp\"], facecolor = \"blue\", edgecolor = \"black\")\n",
    "\n",
    "#title\n",
    "plt.title(\"City Latitude vs. Max Temperature (01/17/20)\")\n",
    "\n",
    "#x axis \n",
    "plt.xlabel(\"Laitude\")\n",
    "\n",
    "#y axis \n",
    "plt.ylabel(\"Max Temperature (F)\")\n",
    "\n",
    "\n",
    "plt.grid(linestyle='-', linewidth=1, alpha = 0.5)\n",
    "\n",
    "#save\n",
    "plt.savefig(\"../Images/City Latitude vs Max Temperature.png\")"
   ]
  },
  {
   "cell_type": "markdown",
   "metadata": {},
   "source": [
    "## Latitude vs. Humidity Plot"
   ]
  },
  {
   "cell_type": "code",
   "execution_count": 49,
   "metadata": {},
   "outputs": [
    {
     "data": {
      "image/png": "[encoded data removed]",
      "text/plain": [
       "<Figure size 432x288 with 1 Axes>"
      ]
     },
     "metadata": {
      "needs_background": "light"
     },
     "output_type": "display_data"
    }
   ],
   "source": [
    "#Latitude vs. Humidity Plot \n",
    "plt.scatter(weather_dict[\"Lat\"], weather_dict[\"Humidity\"], facecolor = \"blue\", edgecolor = \"black\")\n",
    "\n",
    "#title\n",
    "plt.title(\"City Latitude vs. Humidity\")\n",
    "\n",
    "#x axis \n",
    "plt.xlabel(\"Laitude\")\n",
    "\n",
    "#y axis \n",
    "plt.ylabel(\"Humidity (%)\")\n",
    "\n",
    "plt.grid(linestyle='-', linewidth=1, alpha = 0.5)\n",
    "\n",
    "#save\n",
    "plt.savefig(\"../Images/City Latitude vs Humidity.png\")"
   ]
  },
  {
   "cell_type": "markdown",
   "metadata": {},
   "source": [
    "## Latitude vs. Cloudiness Plot"
   ]
  },
  {
   "cell_type": "code",
   "execution_count": 52,
   "metadata": {},
   "outputs": [
    {
     "data": {
      "image/png": "[encoded data removed]",
      "text/plain": [
       "<Figure size 432x288 with 1 Axes>"
      ]
     },
     "metadata": {
      "needs_background": "light"
     },
     "output_type": "display_data"
    }
   ],
   "source": [
    "#Latitude vs. Cloudiness Plot\n",
    "plt.scatter(weather_dict[\"Lat\"], weather_dict[\"Cloudiness\"], facecolor = \"blue\", edgecolor = \"black\")\n",
    "\n",
    "#title\n",
    "plt.title(\"City Latitude vs. Cloudiness\")\n",
    "\n",
    "#x axis\n",
    "plt.xlabel(\"Laitude\")\n",
    "\n",
    "#y axis \n",
    "plt.ylabel(\"Cloudiness (%)\")\n",
    "\n",
    "# Set y axis limit\n",
    "plt.ylim(-5,102)\n",
    "\n",
    "\n",
    "plt.grid(linestyle='-', linewidth=1, alpha = 0.5)\n",
    "\n",
    "#save\n",
    "plt.savefig(\"../Images/City Latitude vs Cloudiness.png\")"
   ]
  },
  {
   "cell_type": "markdown",
   "metadata": {},
   "source": [
    "## Latitude vs. Wind Speed Plot"
   ]
  },
  {
   "cell_type": "code",
   "execution_count": 54,
   "metadata": {},
   "outputs": [
    {
     "data": {
      "image/png": "[encoded data removed]",
      "text/plain": [
       "<Figure size 432x288 with 1 Axes>"
      ]
     },
     "metadata": {
      "needs_background": "light"
     },
     "output_type": "display_data"
    }
   ],
   "source": [
    "#Latitude vs. Wind Speed\n",
    "plt.scatter(weather_dict[\"Lat\"], weather_dict[\"Wind Speed\"], facecolor = \"blue\", edgecolor = \"black\")\n",
    "plt.title(\"City Latitude vs. Wind Speed (mph)\")\n",
    "\n",
    "#x axis\n",
    "plt.xlabel(\"Laitude\")\n",
    "\n",
    "#y axis\n",
    "plt.ylabel(\"Wind Speed (%)\")\n",
    "\n",
    "#y axis\n",
    "plt.ylim(-2,40)\n",
    "\n",
    "\n",
    "plt.grid(linestyle='-', linewidth=1, alpha = 0.5)\n",
    "\n",
    "#save\n",
    "plt.savefig(\"../Images/City Latitude vs Wind Speed (mph).png\")"
   ]
  },
  {
   "cell_type": "markdown",
   "metadata": {},
   "source": [
    "## Linear Regression"
   ]
  },
  {
   "cell_type": "code",
   "execution_count": 71,
   "metadata": {},
   "outputs": [],
   "source": [
    "#north and south hemi data frame\n",
    "northern_hemisphere = weather_dict.loc[weather_dict[\"Lat\"] >= 0]\n",
    "southern_hemisphere = weather_dict.loc[weather_dict[\"Lat\"] < 0]"
   ]
  },
  {
   "cell_type": "code",
   "execution_count": 72,
   "metadata": {},
   "outputs": [],
   "source": [
    "#function for creating linear agression and scatter plot\n",
    "def linear_agression(x,y):\n",
    "    print(f\"The r-squared is : {round(st.pearsonr(x, y)[0],2)}\")\n",
    "    (slope, intercept, rvalue, pvalue, stderr) = linregress(x, y)\n",
    "    regress_values = x * slope + intercept\n",
    "    line_eq = \"y = \" + str(round(slope,2)) + \"x + \" + str(round(intercept,2))\n",
    "    plt.scatter(x, y)\n",
    "    plt.plot(x,regress_values,\"r-\")\n",
    "    return line_eq\n",
    "\n",
    "#fuction for annotating\n",
    "def annotate(line_eq, a, b):\n",
    "    plt.annotate(line_eq,(a,b),fontsize=15,color=\"red\")"
   ]
  },
  {
   "cell_type": "markdown",
   "metadata": {},
   "source": [
    "####  Northern Hemisphere - Max Temp vs. Latitude Linear Regression"
   ]
  },
  {
   "cell_type": "code",
   "execution_count": 75,
   "metadata": {},
   "outputs": [
    {
     "name": "stdout",
     "output_type": "stream",
     "text": [
      "The r-squared is : -0.77\n"
     ]
    },
    {
     "data": {
      "image/png": "[encoded data removed]",
      "text/plain": [
       "<Figure size 432x288 with 1 Axes>"
      ]
     },
     "metadata": {
      "needs_background": "light"
     },
     "output_type": "display_data"
    }
   ],
   "source": [
    "#functions\n",
    "equation = linear_agression(northern_hemisphere[\"Lat\"], northern_hemisphere[\"Max Temp\"])\n",
    "\n",
    "annotate(equation, 0, 0)\n",
    "\n",
    "#title\n",
    "plt.title(\"Northern Hemisphere - Max Temp vs. Latitude Linear Regression\")\n",
    "\n",
    "#xlabel\n",
    "plt.xlabel(\"Latitude\")\n",
    "\n",
    "#ylabel\n",
    "plt.ylabel(\"Max Temp (F)\")\n",
    "\n",
    "#save\n",
    "plt.savefig(\"../Images/Northern Hemisphere - Max Temp vs. Latitude Linear Regression.png\")"
   ]
  },
  {
   "cell_type": "markdown",
   "metadata": {},
   "source": [
    "####  Southern Hemisphere - Max Temp vs. Latitude Linear Regression"
   ]
  },
  {
   "cell_type": "code",
   "execution_count": 78,
   "metadata": {},
   "outputs": [
    {
     "name": "stdout",
     "output_type": "stream",
     "text": [
      "The r-squared is : 0.76\n"
     ]
    },
    {
     "data": {
      "image/png": "[encoded data removed]",
      "text/plain": [
       "<Figure size 432x288 with 1 Axes>"
      ]
     },
     "metadata": {
      "needs_background": "light"
     },
     "output_type": "display_data"
    }
   ],
   "source": [
    "#functions\n",
    "equation = linear_agression(southern_hemisphere[\"Lat\"],southern_hemisphere[\"Max Temp\"])\n",
    "\n",
    "annotate(equation, -30, 50)\n",
    "\n",
    "#title\n",
    "plt.title(\"Southern Hemisphere - Max Temp vs. Latitude Linear Regression\")\n",
    "\n",
    "#xlabel\n",
    "plt.xlabel(\"Latitude\")\n",
    "\n",
    "#ylabel\n",
    "plt.ylabel(\"Max Temp (F)\")\n",
    "\n",
    "#save\n",
    "plt.savefig(\"../Images/Southern Hemisphere - Max Temp vs. Latitude Linear Regression.png\")"
   ]
  },
  {
   "cell_type": "markdown",
   "metadata": {},
   "source": [
    "####  Northern Hemisphere - Humidity (%) vs. Latitude Linear Regression"
   ]
  },
  {
   "cell_type": "code",
   "execution_count": 79,
   "metadata": {},
   "outputs": [
    {
     "name": "stdout",
     "output_type": "stream",
     "text": [
      "The r-squared is : 0.02\n"
     ]
    },
    {
     "data": {
      "image/png": "[encoded data removed]",
      "text/plain": [
       "<Figure size 432x288 with 1 Axes>"
      ]
     },
     "metadata": {
      "needs_background": "light"
     },
     "output_type": "display_data"
    }
   ],
   "source": [
    "#functions\n",
    "equation = linear_agression(northern_hemisphere[\"Lat\"], northern_hemisphere[\"Humidity\"])\n",
    "\n",
    "annotate(equation, 40, 15)\n",
    "\n",
    "#title\n",
    "plt.title(\"Northern Hemisphere - Humidity (%) vs. Latitude Linear Regression\")\n",
    "\n",
    "#xlabel\n",
    "plt.xlabel(\"Latitude\")\n",
    "\n",
    "#ylabel\n",
    "plt.ylabel(\"Humidity (%)\")\n",
    "\n",
    "#save\n",
    "plt.savefig(\"../Images/Northern Hemisphere - Humidity (%) vs. Latitude Linear Regression.png\")"
   ]
  },
  {
   "cell_type": "markdown",
   "metadata": {},
   "source": [
    "####  Southern Hemisphere - Humidity (%) vs. Latitude Linear Regression"
   ]
  },
  {
   "cell_type": "code",
   "execution_count": 77,
   "metadata": {},
   "outputs": [
    {
     "name": "stdout",
     "output_type": "stream",
     "text": [
      "The r-squared is : 0.16\n"
     ]
    },
    {
     "data": {
      "image/png": "[encoded data removed]",
      "text/plain": [
       "<Figure size 432x288 with 1 Axes>"
      ]
     },
     "metadata": {
      "needs_background": "light"
     },
     "output_type": "display_data"
    }
   ],
   "source": [
    "#functions\n",
    "equation = linear_agression(southern_hemisphere[\"Lat\"], southern_hemisphere[\"Humidity\"])\n",
    "\n",
    "annotate(equation, -40, 50)\n",
    "\n",
    "#title\n",
    "plt.title(\"Southern Hemisphere - Humidity (%) vs. Latitude Linear Regression\")\n",
    "\n",
    "#xlabel\n",
    "plt.xlabel(\"Latitude\")\n",
    "\n",
    "#ylabel\n",
    "plt.ylabel(\"Humidity (%)\")\n",
    "\n",
    "#save\n",
    "plt.savefig(\"../Images/Southern Hemisphere - Humidity (%) vs. Latitude Linear Regression.png\")\n"
   ]
  },
  {
   "cell_type": "markdown",
   "metadata": {},
   "source": [
    "####  Northern Hemisphere - Cloudiness (%) vs. Latitude Linear Regression"
   ]
  },
  {
   "cell_type": "code",
   "execution_count": 80,
   "metadata": {},
   "outputs": [
    {
     "name": "stdout",
     "output_type": "stream",
     "text": [
      "The r-squared is : 0.09\n"
     ]
    },
    {
     "data": {
      "image/png": "[encoded data removed]",
      "text/plain": [
       "<Figure size 432x288 with 1 Axes>"
      ]
     },
     "metadata": {
      "needs_background": "light"
     },
     "output_type": "display_data"
    }
   ],
   "source": [
    "#funstions\n",
    "equation = linear_agression(northern_hemisphere[\"Lat\"], northern_hemisphere[\"Cloudiness\"])\n",
    "\n",
    "annotate(equation, 30, 40)\n",
    "\n",
    "#title\n",
    "plt.title(\"Northern Hemisphere - Cloudiness (%) vs. Latitude Linear Regression\")\n",
    "\n",
    "#xlabel\n",
    "plt.xlabel(\"Latitude\")\n",
    "\n",
    "#ylabel\n",
    "plt.ylabel(\"Cloudiness (%)\")\n",
    "\n",
    "#save\n",
    "plt.savefig(\"../Images/Northern Hemisphere - Cloudiness (%) vs. Latitude Linear Regression.png\")"
   ]
  },
  {
   "cell_type": "markdown",
   "metadata": {},
   "source": [
    "####  Southern Hemisphere - Cloudiness (%) vs. Latitude Linear Regression"
   ]
  },
  {
   "cell_type": "code",
   "execution_count": 81,
   "metadata": {},
   "outputs": [
    {
     "name": "stdout",
     "output_type": "stream",
     "text": [
      "The r-squared is : 0.0\n"
     ]
    },
    {
     "data": {
      "image/png": "[encoded data removed]",
      "text/plain": [
       "<Figure size 432x288 with 1 Axes>"
      ]
     },
     "metadata": {
      "needs_background": "light"
     },
     "output_type": "display_data"
    }
   ],
   "source": [
    "#functions\n",
    "equation = linear_agression(southern_hemisphere[\"Lat\"], southern_hemisphere[\"Cloudiness\"])\n",
    "\n",
    "annotate(equation, -30, 40)\n",
    "\n",
    "#title\n",
    "plt.title(\"Southern Hemisphere - Cloudiness (%) vs. Latitude Linear Regression\")\n",
    "\n",
    "#xlabel\n",
    "plt.xlabel(\"Latitude\")\n",
    "\n",
    "#ylabel\n",
    "plt.ylabel(\"Cloudiness (%)\")\n",
    "\n",
    "#save\n",
    "plt.savefig(\"../Images/Southern Hemisphere - Cloudiness (%) vs. Latitude Linear Regression.png\")"
   ]
  },
  {
   "cell_type": "markdown",
   "metadata": {},
   "source": [
    "####  Northern Hemisphere - Wind Speed (mph) vs. Latitude Linear Regression"
   ]
  },
  {
   "cell_type": "code",
   "execution_count": 82,
   "metadata": {},
   "outputs": [
    {
     "name": "stdout",
     "output_type": "stream",
     "text": [
      "The r-squared is : 0.1\n"
     ]
    },
    {
     "data": {
      "image/png": "[encoded data removed]",
      "text/plain": [
       "<Figure size 432x288 with 1 Axes>"
      ]
     },
     "metadata": {
      "needs_background": "light"
     },
     "output_type": "display_data"
    }
   ],
   "source": [
    "#functions\n",
    "equation = linear_agression(northern_hemisphere[\"Lat\"], northern_hemisphere[\"Wind Speed\"])\n",
    "\n",
    "annotate(equation, 40, 20)\n",
    "\n",
    "#title\n",
    "plt.title(\"Northern Hemisphere - Wind Speed (mph) vs. Latitude Linear Regression\")\n",
    "\n",
    "#xlabel\n",
    "plt.xlabel(\"Latitude\")\n",
    "\n",
    "#ylabel\n",
    "plt.ylabel(\"Wind Speed (mph)\")\n",
    "\n",
    "#save\n",
    "plt.savefig(\"../Images/Northern Hemisphere - Wind Speed vs. Latitude Linear Regression.png\")"
   ]
  },
  {
   "cell_type": "markdown",
   "metadata": {},
   "source": [
    "####  Southern Hemisphere - Wind Speed (mph) vs. Latitude Linear Regression"
   ]
  },
  {
   "cell_type": "code",
   "execution_count": 83,
   "metadata": {},
   "outputs": [
    {
     "name": "stdout",
     "output_type": "stream",
     "text": [
      "The r-squared is : -0.21\n"
     ]
    },
    {
     "data": {
      "image/png": "[encoded data removed]",
      "text/plain": [
       "<Figure size 432x288 with 1 Axes>"
      ]
     },
     "metadata": {
      "needs_background": "light"
     },
     "output_type": "display_data"
    }
   ],
   "source": [
    "#functions\n",
    "equation = linear_agression(southern_hemisphere[\"Lat\"], southern_hemisphere[\"Wind Speed\"])\n",
    "\n",
    "annotate(equation, -30, 15)\n",
    "\n",
    "#title\n",
    "plt.title(\"Southern Hemisphere - Wind Speed (mph) vs. Latitude Linear Regression\")\n",
    "\n",
    "#xlabel\n",
    "plt.xlabel(\"Latitude\")\n",
    "\n",
    "#ylabel\n",
    "plt.ylabel(\"Wind Speed (mph)\")\n",
    "\n",
    "#save\n",
    "plt.savefig(\"../Images/Southern Hemisphere - Wind Speed vs. Latitude Linear Regression.png\")"
   ]
  },
  {
   "cell_type": "code",
   "execution_count": null,
   "metadata": {},
   "outputs": [],
   "source": []
  }
 ],
 "metadata": {
  "anaconda-cloud": {},
  "kernel_info": {
   "name": "python3"
  },
  "kernelspec": {
   "display_name": "Python 3",
   "language": "python",
   "name": "python3"
  },
  "language_info": {
   "codemirror_mode": {
    "name": "ipython",
    "version": 3
   },
   "file_extension": ".py",
   "mimetype": "text/x-python",
   "name": "python",
   "nbconvert_exporter": "python",
   "pygments_lexer": "ipython3",
   "version": "3.8.5"
  },
  "latex_envs": {
   "LaTeX_envs_menu_present": true,
   "autoclose": false,
   "autocomplete": true,
   "bibliofile": "biblio.bib",
   "cite_by": "apalike",
   "current_citInitial": 1,
   "eqLabelWithNumbers": true,
   "eqNumInitial": 1,
   "hotkeys": {
    "equation": "Ctrl-E",
    "itemize": "Ctrl-I"
   },
   "labels_anchors": false,
   "latex_user_defs": false,
   "report_style_numbering": false,
   "user_envs_cfg": false
  },
  "nteract": {
   "version": "0.12.3"
  }
 },
 "nbformat": 4,
 "nbformat_minor": 2
}
